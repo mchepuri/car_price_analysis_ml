{
 "cells": [
  {
   "cell_type": "markdown",
   "metadata": {},
   "source": [
    "# What drives the price of a car?\n",
    "\n",
    "![](images/kurt.jpeg)"
   ]
  },
  {
   "cell_type": "markdown",
   "metadata": {},
   "source": [
    "**OVERVIEW**\n",
    "\n",
    "In this application, you will explore a dataset from Kaggle. The original dataset contained information on 3 million used cars. The provided dataset contains information on 426K cars to ensure speed of processing.  Your goal is to understand what factors make a car more or less expensive.  As a result of your analysis, you should provide clear recommendations to your client -- a used car dealership -- as to what consumers value in a used car."
   ]
  },
  {
   "cell_type": "markdown",
   "metadata": {},
   "source": [
    "### CRISP-DM Framework\n",
    "\n",
    "<center>\n",
    "    <img src = images/crisp.png width = 50%/>\n",
    "</center>\n",
    "\n",
    "\n",
    "To frame the task, throughout our practical applications, we will refer back to a standard process in industry for data projects called CRISP-DM.  This process provides a framework for working through a data problem.  Your first step in this application will be to read through a brief overview of CRISP-DM [here](https://mo-pcco.s3.us-east-1.amazonaws.com/BH-PCMLAI/module_11/readings_starter.zip).  After reading the overview, answer the questions below."
   ]
  },
  {
   "cell_type": "markdown",
   "metadata": {},
   "source": [
    "### Business Understanding\n",
    "\n",
    "From a business perspective, we are tasked with identifying key drivers for used car prices.  In the CRISP-DM overview, we are asked to convert this business framing to a data problem definition.  Using a few sentences, reframe the task as a data task with the appropriate technical vocabulary. "
   ]
  },
  {
   "cell_type": "code",
   "execution_count": null,
   "metadata": {},
   "outputs": [],
   "source": []
  },
  {
   "cell_type": "code",
   "execution_count": null,
   "metadata": {},
   "outputs": [],
   "source": []
  },
  {
   "cell_type": "code",
   "execution_count": null,
   "metadata": {},
   "outputs": [],
   "source": []
  },
  {
   "cell_type": "code",
   "execution_count": null,
   "metadata": {},
   "outputs": [],
   "source": []
  },
  {
   "cell_type": "markdown",
   "metadata": {},
   "source": [
    "### Data Understanding\n",
    "\n",
    "After considering the business understanding, we want to get familiar with our data.  Write down some steps that you would take to get to know the dataset and identify any quality issues within.  Take time to get to know the dataset and explore what information it contains and how this could be used to inform your business understanding."
   ]
  },
  {
   "cell_type": "code",
   "execution_count": 24,
   "metadata": {},
   "outputs": [],
   "source": [
    "import pandas as pd\n",
    "import seaborn as sns\n",
    "import matplotlib.pyplot as plt # Often used alongside Seaborn\n",
    "from sklearn.preprocessing import StandardScaler"
   ]
  },
  {
   "cell_type": "code",
   "execution_count": 129,
   "metadata": {},
   "outputs": [],
   "source": [
    "df=pd.read_csv('data/vehicles.csv')"
   ]
  },
  {
   "cell_type": "code",
   "execution_count": 131,
   "metadata": {},
   "outputs": [
    {
     "data": {
      "image/png": "[encoded data removed]",
      "text/plain": [
       "<Figure size 640x480 with 1 Axes>"
      ]
     },
     "metadata": {},
     "output_type": "display_data"
    }
   ],
   "source": [
    "ax=sns.scatterplot(x='price',y='condition', data=df)\n",
    "\n",
    "# While the general trend is clear, there's still a spread of prices within each condition category. \n",
    "# This suggests that other factors beyond just the broad condition categories might also \n",
    "# influence the final price (e.g., specific features, make/model if it were cars, mileage, etc.)\n",
    "plt.show()"
   ]
  },
  {
   "cell_type": "code",
   "execution_count": 134,
   "metadata": {},
   "outputs": [
    {
     "data": {
      "text/html": [
       "<div>\n",
       "<style scoped>\n",
       "    .dataframe tbody tr th:only-of-type {\n",
       "        vertical-align: middle;\n",
       "    }\n",
       "\n",
       "    .dataframe tbody tr th {\n",
       "        vertical-align: top;\n",
       "    }\n",
       "\n",
       "    .dataframe thead th {\n",
       "        text-align: right;\n",
       "    }\n",
       "</style>\n",
       "<table border=\"1\" class=\"dataframe\">\n",
       "  <thead>\n",
       "    <tr style=\"text-align: right;\">\n",
       "      <th></th>\n",
       "      <th>id</th>\n",
       "      <th>region</th>\n",
       "      <th>price</th>\n",
       "      <th>year</th>\n",
       "      <th>manufacturer</th>\n",
       "      <th>model</th>\n",
       "      <th>condition</th>\n",
       "      <th>cylinders</th>\n",
       "      <th>fuel</th>\n",
       "      <th>odometer</th>\n",
       "      <th>title_status</th>\n",
       "      <th>transmission</th>\n",
       "      <th>VIN</th>\n",
       "      <th>drive</th>\n",
       "      <th>size</th>\n",
       "      <th>type</th>\n",
       "      <th>paint_color</th>\n",
       "      <th>state</th>\n",
       "    </tr>\n",
       "  </thead>\n",
       "  <tbody>\n",
       "    <tr>\n",
       "      <th>240</th>\n",
       "      <td>7316229137</td>\n",
       "      <td>birmingham</td>\n",
       "      <td>23500</td>\n",
       "      <td>1970.0</td>\n",
       "      <td>chevrolet</td>\n",
       "      <td>monte carlo</td>\n",
       "      <td>excellent</td>\n",
       "      <td>NaN</td>\n",
       "      <td>gas</td>\n",
       "      <td>18678.0</td>\n",
       "      <td>clean</td>\n",
       "      <td>automatic</td>\n",
       "      <td>NaN</td>\n",
       "      <td>NaN</td>\n",
       "      <td>NaN</td>\n",
       "      <td>NaN</td>\n",
       "      <td>NaN</td>\n",
       "      <td>al</td>\n",
       "    </tr>\n",
       "    <tr>\n",
       "      <th>428</th>\n",
       "      <td>7314355049</td>\n",
       "      <td>birmingham</td>\n",
       "      <td>0</td>\n",
       "      <td>2020.0</td>\n",
       "      <td>dodge</td>\n",
       "      <td>charger</td>\n",
       "      <td>excellent</td>\n",
       "      <td>8 cylinders</td>\n",
       "      <td>gas</td>\n",
       "      <td>8428.0</td>\n",
       "      <td>clean</td>\n",
       "      <td>automatic</td>\n",
       "      <td>2C3CDXGJ8LH129343</td>\n",
       "      <td>rwd</td>\n",
       "      <td>NaN</td>\n",
       "      <td>sedan</td>\n",
       "      <td>NaN</td>\n",
       "      <td>al</td>\n",
       "    </tr>\n",
       "    <tr>\n",
       "      <th>431</th>\n",
       "      <td>7314347283</td>\n",
       "      <td>birmingham</td>\n",
       "      <td>0</td>\n",
       "      <td>2021.0</td>\n",
       "      <td>nissan</td>\n",
       "      <td>titan xd</td>\n",
       "      <td>excellent</td>\n",
       "      <td>8 cylinders</td>\n",
       "      <td>gas</td>\n",
       "      <td>2576.0</td>\n",
       "      <td>clean</td>\n",
       "      <td>automatic</td>\n",
       "      <td>1N6AA1FBXMN506733</td>\n",
       "      <td>4wd</td>\n",
       "      <td>NaN</td>\n",
       "      <td>truck</td>\n",
       "      <td>black</td>\n",
       "      <td>al</td>\n",
       "    </tr>\n",
       "    <tr>\n",
       "      <th>441</th>\n",
       "      <td>7314277945</td>\n",
       "      <td>birmingham</td>\n",
       "      <td>24888</td>\n",
       "      <td>2019.0</td>\n",
       "      <td>ford</td>\n",
       "      <td>f150 regular cab xl</td>\n",
       "      <td>excellent</td>\n",
       "      <td>6 cylinders</td>\n",
       "      <td>gas</td>\n",
       "      <td>8176.0</td>\n",
       "      <td>clean</td>\n",
       "      <td>automatic</td>\n",
       "      <td>NaN</td>\n",
       "      <td>rwd</td>\n",
       "      <td>full-size</td>\n",
       "      <td>pickup</td>\n",
       "      <td>white</td>\n",
       "      <td>al</td>\n",
       "    </tr>\n",
       "    <tr>\n",
       "      <th>606</th>\n",
       "      <td>7313029336</td>\n",
       "      <td>birmingham</td>\n",
       "      <td>34900</td>\n",
       "      <td>2020.0</td>\n",
       "      <td>nissan</td>\n",
       "      <td>pathfinder</td>\n",
       "      <td>excellent</td>\n",
       "      <td>6 cylinders</td>\n",
       "      <td>gas</td>\n",
       "      <td>15400.0</td>\n",
       "      <td>clean</td>\n",
       "      <td>automatic</td>\n",
       "      <td>5N1DR2DN2LC622798</td>\n",
       "      <td>rwd</td>\n",
       "      <td>full-size</td>\n",
       "      <td>SUV</td>\n",
       "      <td>white</td>\n",
       "      <td>al</td>\n",
       "    </tr>\n",
       "    <tr>\n",
       "      <th>...</th>\n",
       "      <td>...</td>\n",
       "      <td>...</td>\n",
       "      <td>...</td>\n",
       "      <td>...</td>\n",
       "      <td>...</td>\n",
       "      <td>...</td>\n",
       "      <td>...</td>\n",
       "      <td>...</td>\n",
       "      <td>...</td>\n",
       "      <td>...</td>\n",
       "      <td>...</td>\n",
       "      <td>...</td>\n",
       "      <td>...</td>\n",
       "      <td>...</td>\n",
       "      <td>...</td>\n",
       "      <td>...</td>\n",
       "      <td>...</td>\n",
       "      <td>...</td>\n",
       "    </tr>\n",
       "    <tr>\n",
       "      <th>426167</th>\n",
       "      <td>7304331050</td>\n",
       "      <td>wausau</td>\n",
       "      <td>40998</td>\n",
       "      <td>2019.0</td>\n",
       "      <td>ford</td>\n",
       "      <td>t-350 hd</td>\n",
       "      <td>excellent</td>\n",
       "      <td>6 cylinders</td>\n",
       "      <td>gas</td>\n",
       "      <td>18955.0</td>\n",
       "      <td>clean</td>\n",
       "      <td>automatic</td>\n",
       "      <td>NaN</td>\n",
       "      <td>rwd</td>\n",
       "      <td>full-size</td>\n",
       "      <td>truck</td>\n",
       "      <td>red</td>\n",
       "      <td>wi</td>\n",
       "    </tr>\n",
       "    <tr>\n",
       "      <th>426217</th>\n",
       "      <td>7302846619</td>\n",
       "      <td>wausau</td>\n",
       "      <td>21370</td>\n",
       "      <td>2017.0</td>\n",
       "      <td>chevrolet</td>\n",
       "      <td>traverse</td>\n",
       "      <td>excellent</td>\n",
       "      <td>6 cylinders</td>\n",
       "      <td>gas</td>\n",
       "      <td>19429.0</td>\n",
       "      <td>rebuilt</td>\n",
       "      <td>automatic</td>\n",
       "      <td>NaN</td>\n",
       "      <td>4wd</td>\n",
       "      <td>mid-size</td>\n",
       "      <td>SUV</td>\n",
       "      <td>black</td>\n",
       "      <td>wi</td>\n",
       "    </tr>\n",
       "    <tr>\n",
       "      <th>426245</th>\n",
       "      <td>7302193972</td>\n",
       "      <td>wausau</td>\n",
       "      <td>16995</td>\n",
       "      <td>2014.0</td>\n",
       "      <td>ford</td>\n",
       "      <td>transit connect</td>\n",
       "      <td>excellent</td>\n",
       "      <td>4 cylinders</td>\n",
       "      <td>gas</td>\n",
       "      <td>18752.0</td>\n",
       "      <td>clean</td>\n",
       "      <td>automatic</td>\n",
       "      <td>NaN</td>\n",
       "      <td>fwd</td>\n",
       "      <td>compact</td>\n",
       "      <td>van</td>\n",
       "      <td>white</td>\n",
       "      <td>wi</td>\n",
       "    </tr>\n",
       "    <tr>\n",
       "      <th>426316</th>\n",
       "      <td>7315967944</td>\n",
       "      <td>wyoming</td>\n",
       "      <td>25500</td>\n",
       "      <td>1952.0</td>\n",
       "      <td>NaN</td>\n",
       "      <td>520dodge</td>\n",
       "      <td>excellent</td>\n",
       "      <td>8 cylinders</td>\n",
       "      <td>gas</td>\n",
       "      <td>5000.0</td>\n",
       "      <td>clean</td>\n",
       "      <td>automatic</td>\n",
       "      <td>NaN</td>\n",
       "      <td>rwd</td>\n",
       "      <td>full-size</td>\n",
       "      <td>NaN</td>\n",
       "      <td>orange</td>\n",
       "      <td>wy</td>\n",
       "    </tr>\n",
       "    <tr>\n",
       "      <th>426504</th>\n",
       "      <td>7311050509</td>\n",
       "      <td>wyoming</td>\n",
       "      <td>24000</td>\n",
       "      <td>2019.0</td>\n",
       "      <td>chevrolet</td>\n",
       "      <td>colorado</td>\n",
       "      <td>excellent</td>\n",
       "      <td>4 cylinders</td>\n",
       "      <td>gas</td>\n",
       "      <td>5000.0</td>\n",
       "      <td>clean</td>\n",
       "      <td>automatic</td>\n",
       "      <td>NaN</td>\n",
       "      <td>4wd</td>\n",
       "      <td>mid-size</td>\n",
       "      <td>pickup</td>\n",
       "      <td>white</td>\n",
       "      <td>wy</td>\n",
       "    </tr>\n",
       "  </tbody>\n",
       "</table>\n",
       "<p>5304 rows × 18 columns</p>\n",
       "</div>"
      ],
      "text/plain": [
       "                id      region  price    year manufacturer  \\\n",
       "240     7316229137  birmingham  23500  1970.0    chevrolet   \n",
       "428     7314355049  birmingham      0  2020.0        dodge   \n",
       "431     7314347283  birmingham      0  2021.0       nissan   \n",
       "441     7314277945  birmingham  24888  2019.0         ford   \n",
       "606     7313029336  birmingham  34900  2020.0       nissan   \n",
       "...            ...         ...    ...     ...          ...   \n",
       "426167  7304331050      wausau  40998  2019.0         ford   \n",
       "426217  7302846619      wausau  21370  2017.0    chevrolet   \n",
       "426245  7302193972      wausau  16995  2014.0         ford   \n",
       "426316  7315967944     wyoming  25500  1952.0          NaN   \n",
       "426504  7311050509     wyoming  24000  2019.0    chevrolet   \n",
       "\n",
       "                      model  condition    cylinders fuel  odometer  \\\n",
       "240             monte carlo  excellent          NaN  gas   18678.0   \n",
       "428                 charger  excellent  8 cylinders  gas    8428.0   \n",
       "431                titan xd  excellent  8 cylinders  gas    2576.0   \n",
       "441     f150 regular cab xl  excellent  6 cylinders  gas    8176.0   \n",
       "606              pathfinder  excellent  6 cylinders  gas   15400.0   \n",
       "...                     ...        ...          ...  ...       ...   \n",
       "426167             t-350 hd  excellent  6 cylinders  gas   18955.0   \n",
       "426217             traverse  excellent  6 cylinders  gas   19429.0   \n",
       "426245      transit connect  excellent  4 cylinders  gas   18752.0   \n",
       "426316             520dodge  excellent  8 cylinders  gas    5000.0   \n",
       "426504             colorado  excellent  4 cylinders  gas    5000.0   \n",
       "\n",
       "       title_status transmission                VIN drive       size    type  \\\n",
       "240           clean    automatic                NaN   NaN        NaN     NaN   \n",
       "428           clean    automatic  2C3CDXGJ8LH129343   rwd        NaN   sedan   \n",
       "431           clean    automatic  1N6AA1FBXMN506733   4wd        NaN   truck   \n",
       "441           clean    automatic                NaN   rwd  full-size  pickup   \n",
       "606           clean    automatic  5N1DR2DN2LC622798   rwd  full-size     SUV   \n",
       "...             ...          ...                ...   ...        ...     ...   \n",
       "426167        clean    automatic                NaN   rwd  full-size   truck   \n",
       "426217      rebuilt    automatic                NaN   4wd   mid-size     SUV   \n",
       "426245        clean    automatic                NaN   fwd    compact     van   \n",
       "426316        clean    automatic                NaN   rwd  full-size     NaN   \n",
       "426504        clean    automatic                NaN   4wd   mid-size  pickup   \n",
       "\n",
       "       paint_color state  \n",
       "240            NaN    al  \n",
       "428            NaN    al  \n",
       "431          black    al  \n",
       "441          white    al  \n",
       "606          white    al  \n",
       "...            ...   ...  \n",
       "426167         red    wi  \n",
       "426217       black    wi  \n",
       "426245       white    wi  \n",
       "426316      orange    wy  \n",
       "426504       white    wy  \n",
       "\n",
       "[5304 rows x 18 columns]"
      ]
     },
     "execution_count": 134,
     "metadata": {},
     "output_type": "execute_result"
    }
   ],
   "source": [
    "df.query('condition==\"excellent\" & odometer <20000 & price < 50000')"
   ]
  },
  {
   "cell_type": "code",
   "execution_count": 127,
   "metadata": {},
   "outputs": [
    {
     "data": {
      "image/png": "[encoded data removed]",
      "text/plain": [
       "<Figure size 640x480 with 1 Axes>"
      ]
     },
     "metadata": {},
     "output_type": "display_data"
    }
   ],
   "source": [
    "ax=sns.scatterplot(x='odometer',y='price', data=df)\n",
    "\n",
    "plt.show()"
   ]
  },
  {
   "cell_type": "code",
   "execution_count": 117,
   "metadata": {},
   "outputs": [
    {
     "data": {
      "text/plain": [
       "fuel\n",
       "gas         31313\n",
       "diesel       3019\n",
       "hybrid        425\n",
       "electric       79\n",
       "other          32\n",
       "Name: count, dtype: int64"
      ]
     },
     "execution_count": 117,
     "metadata": {},
     "output_type": "execute_result"
    }
   ],
   "source": [
    "df['condition'].value_counts()\n",
    "df['model'].value_counts() #5139 different models\n",
    "df['title_status'].value_counts() \n",
    "#6 statueses. Clean(405117), rebuilt(7219) ,salvage 3868, lien(1422), missing (814), parts only(198)\n",
    "\n",
    "#print(len(df))\n",
    "df['transmission'].value_counts() \n",
    "# automatic(336524) , other(62682) , manual(25118)\n",
    "df['year'].value_counts() \n",
    "df['drive'].value_counts() \n",
    "#print(len(df[df['drive'].isnull()]))\n",
    "# 4wd(16565), fwd(10950), rwd(7353)\n",
    "\n",
    "df['size'].value_counts() \n",
    "#full-size  20267   mid-size  9896  compact   4060          compact 4060\n",
    "\n",
    "df['type'].value_counts() \n",
    "#SUV 9278, sedan 8249,truck 7692,pickup 2764,van 1754,coupe 1493, hatchback 1133,wagon 837,\n",
    "# convertible 824, mini-van 619,other 99,offroad 83,bus 43\n",
    "\n",
    "df['paint_color'].value_counts() \n",
    "#paint_color\n",
    "#white     9862\n",
    "#black     6510\n",
    "#silver    4769\n",
    "#grey      4185\n",
    "#blue      3344\n",
    "#red       3129\n",
    "#custom     901\n",
    "#green      871\n",
    "#brown      835\n",
    "#yellow     230\n",
    "#orange     160\n",
    "#purple      72\n",
    "\n",
    "df['fuel'].value_counts()\n",
    "\n",
    "#fuel?\n",
    "#df.head()\n"
   ]
  },
  {
   "cell_type": "markdown",
   "metadata": {},
   "source": [
    "### Data Preparation\n",
    "\n",
    "After our initial exploration and fine-tuning of the business understanding, it is time to construct our final dataset prior to modeling.  Here, we want to make sure to handle any integrity issues and cleaning, the engineering of new features, any transformations that we believe should happen (scaling, logarithms, normalization, etc.), and general preparation for modeling with `sklearn`. "
   ]
  },
  {
   "cell_type": "code",
   "execution_count": 85,
   "metadata": {},
   "outputs": [],
   "source": [
    "df=df.dropna()"
   ]
  },
  {
   "cell_type": "code",
   "execution_count": 86,
   "metadata": {},
   "outputs": [
    {
     "data": {
      "image/png": "[encoded data removed]",
      "text/plain": [
       "<Figure size 640x480 with 1 Axes>"
      ]
     },
     "metadata": {},
     "output_type": "display_data"
    }
   ],
   "source": [
    "scaler = StandardScaler()\n",
    "df_odo_scaled = pd.DataFrame(scaler.fit_transform(df[['odometer']]), columns=['odometer'])\n",
    "df_scaled = pd.concat([df[['price']],df_odo_scaled],axis='columns') \n",
    "\n",
    "ax=sns.scatterplot(x='odometer',y='price', data=df_scaled)\n",
    "plt.xlim(-1.0, 2.5)\n",
    "plt.show()"
   ]
  },
  {
   "cell_type": "code",
   "execution_count": 67,
   "metadata": {},
   "outputs": [
    {
     "name": "stdout",
     "output_type": "stream",
     "text": [
      "34516\n"
     ]
    }
   ],
   "source": [
    "iqr = ''\n",
    "\n",
    "###BEGIN SOLUTION\n",
    "\n",
    "first_quartile = df['odometer'].quantile(.25)\n",
    "third_quartile = df['odometer'].quantile(.75)\n",
    "iqr = third_quartile - first_quartile\n",
    "lower = first_quartile - 1.5*iqr\n",
    "upper = third_quartile + 1.5*iqr\n",
    "\n",
    "outliers_filtered = df.loc[(df['odometer']>lower) & (df['odometer']<upper)]\n",
    "print(len(outliers_filtered))\n",
    "# count in salaries_no_outlier 34516\n",
    "# while count in original df is 34868. So we managed to remove 350 outliers."
   ]
  },
  {
   "cell_type": "code",
   "execution_count": 63,
   "metadata": {},
   "outputs": [
    {
     "name": "stdout",
     "output_type": "stream",
     "text": [
      "32028\n"
     ]
    }
   ],
   "source": [
    "price_null_rows=outliers_filtered[outliers_filtered['price'].isnull()]\n",
    "print(len(price_null_rows))"
   ]
  },
  {
   "cell_type": "code",
   "execution_count": null,
   "metadata": {},
   "outputs": [],
   "source": []
  },
  {
   "cell_type": "markdown",
   "metadata": {},
   "source": [
    "### Modeling\n",
    "\n",
    "With your (almost?) final dataset in hand, it is now time to build some models.  Here, you should build a number of different regression models with the price as the target.  In building your models, you should explore different parameters and be sure to cross-validate your findings."
   ]
  },
  {
   "cell_type": "code",
   "execution_count": null,
   "metadata": {},
   "outputs": [],
   "source": []
  },
  {
   "cell_type": "code",
   "execution_count": null,
   "metadata": {},
   "outputs": [],
   "source": []
  },
  {
   "cell_type": "code",
   "execution_count": null,
   "metadata": {},
   "outputs": [],
   "source": []
  },
  {
   "cell_type": "code",
   "execution_count": null,
   "metadata": {},
   "outputs": [],
   "source": []
  },
  {
   "cell_type": "markdown",
   "metadata": {},
   "source": [
    "### Evaluation\n",
    "\n",
    "With some modeling accomplished, we aim to reflect on what we identify as a high-quality model and what we are able to learn from this.  We should review our business objective and explore how well we can provide meaningful insight into drivers of used car prices.  Your goal now is to distill your findings and determine whether the earlier phases need revisitation and adjustment or if you have information of value to bring back to your client."
   ]
  },
  {
   "cell_type": "code",
   "execution_count": null,
   "metadata": {},
   "outputs": [],
   "source": []
  },
  {
   "cell_type": "code",
   "execution_count": null,
   "metadata": {},
   "outputs": [],
   "source": []
  },
  {
   "cell_type": "code",
   "execution_count": null,
   "metadata": {},
   "outputs": [],
   "source": []
  },
  {
   "cell_type": "code",
   "execution_count": null,
   "metadata": {},
   "outputs": [],
   "source": []
  },
  {
   "cell_type": "code",
   "execution_count": null,
   "metadata": {},
   "outputs": [],
   "source": []
  },
  {
   "cell_type": "code",
   "execution_count": null,
   "metadata": {},
   "outputs": [],
   "source": []
  },
  {
   "cell_type": "markdown",
   "metadata": {},
   "source": [
    "### Deployment\n",
    "\n",
    "Now that we've settled on our models and findings, it is time to deliver the information to the client.  You should organize your work as a basic report that details your primary findings.  Keep in mind that your audience is a group of used car dealers interested in fine-tuning their inventory."
   ]
  },
  {
   "cell_type": "code",
   "execution_count": null,
   "metadata": {},
   "outputs": [],
   "source": []
  },
  {
   "cell_type": "code",
   "execution_count": null,
   "metadata": {},
   "outputs": [],
   "source": []
  },
  {
   "cell_type": "code",
   "execution_count": null,
   "metadata": {},
   "outputs": [],
   "source": []
  },
  {
   "cell_type": "code",
   "execution_count": null,
   "metadata": {},
   "outputs": [],
   "source": []
  },
  {
   "cell_type": "code",
   "execution_count": null,
   "metadata": {},
   "outputs": [],
   "source": []
  },
  {
   "cell_type": "code",
   "execution_count": null,
   "metadata": {},
   "outputs": [],
   "source": []
  },
  {
   "cell_type": "code",
   "execution_count": null,
   "metadata": {},
   "outputs": [],
   "source": []
  }
 ],
 "metadata": {
  "kernelspec": {
   "display_name": "Python [conda env:base] *",
   "language": "python",
   "name": "conda-base-py"
  },
  "language_info": {
   "codemirror_mode": {
    "name": "ipython",
    "version": 3
   },
   "file_extension": ".py",
   "mimetype": "text/x-python",
   "name": "python",
   "nbconvert_exporter": "python",
   "pygments_lexer": "ipython3",
   "version": "3.12.7"
  },
  "widgets": {
   "application/vnd.jupyter.widget-state+json": {
    "state": {},
    "version_major": 2,
    "version_minor": 0
   }
  }
 },
 "nbformat": 4,
 "nbformat_minor": 4
}
